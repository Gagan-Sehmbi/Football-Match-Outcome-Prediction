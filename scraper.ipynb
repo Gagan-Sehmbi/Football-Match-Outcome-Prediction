{
 "cells": [
  {
   "cell_type": "code",
   "execution_count": 16,
   "metadata": {},
   "outputs": [],
   "source": [
    "from selenium import webdriver\n",
    "from webdriver_manager.chrome import ChromeDriverManager\n",
    "import time\n",
    "from bs4 import BeautifulSoup as bs\n",
    "import requests\n",
    "from tqdm import tqdm\n",
    "import pandas as pd\n",
    "import os\n",
    "import pathlib\n",
    "class Scraper:\n",
    "    def __init__(self, league:str, url:str='https://www.besoccer.com/competition', year: int=2022) -> None:\n",
    "        pathlib.Path(f'Data/Results/{league}').mkdir(parents=True, exist_ok=True) \n",
    "        pathlib.Path(f'Data/To_Predict/{league}').mkdir(parents=True, exist_ok=True) \n",
    "        self.league = league\n",
    "        self.url = url\n",
    "        self.year = year\n",
    "        r = requests.get(f\"{self.url}/scores/{self.league}/{self.year}\")\n",
    "        time.sleep(1)\n",
    "        soup = bs(r.content, 'html.parser')\n",
    "        matchday_str = soup.find('div', {'class': 'panel-title'}).text\n",
    "        self.matchday = [int(s) for s in matchday_str.split() if s.isdigit()][0]\n",
    "\n",
    "    def get_previous_matches(self):\n",
    "        results = {'Home_Team': [], 'Away_Team': [], 'Result': [], 'Link': [], 'Season': [], 'Round': [], 'League': [], 'Home_ELO': [], 'Away_ELO': []}\n",
    "        for matchday in tqdm(range(1, self.matchday)):\n",
    "            r = requests.get(f\"{self.url}/scores/{self.league}/{self.year}/round{matchday}\")\n",
    "            time.sleep(1)\n",
    "            soup = bs(r.content, 'html.parser')\n",
    "            matches_box = soup.find('div', {'class': 'panel-body p0 match-list-new'})\n",
    "            matches = matches_box.find_all('a', {'class': 'match-link'})\n",
    "            for match in matches:\n",
    "                try:\n",
    "                    home_team = match.find('div', {'class': 'team-info ta-r'}).find('div', {'class': 'name'}).text.strip()\n",
    "                    away_team = match.find('div', {'class': 'team-info'}).find('div', {'class': 'name'}).text.strip()\n",
    "                    home_score = match.find('div', {'class': 'marker'}).find('span', {'class': 'r1'}).text.strip()\n",
    "                    away_score = match.find('div', {'class': 'marker'}).find('span', {'class': 'r2'}).text.strip()\n",
    "                    results['Home_Team'].append(home_team)\n",
    "                    results['Away_Team'].append(away_team)\n",
    "                    results['Result'].append(f'{home_score}-{away_score}')\n",
    "                    results['Link'].append(match.get('href'))\n",
    "                    results['Season'].append(self.year)\n",
    "                    results['Round'].append(matchday)\n",
    "                    results['League'].append(self.league)\n",
    "                except AttributeError:\n",
    "                    continue\n",
    "                \n",
    "            for link in results['Link']:\n",
    "                r = requests.get(f'{link}/analysis')\n",
    "                time.sleep(0.2)\n",
    "                soup = bs(r.content, 'html.parser')\n",
    "                home_elo = soup.find('td', {'class': 'team1-c'}).find('span', {'class': 'rating'}).text.strip()\n",
    "                results['Home_ELO'].append(home_elo)\n",
    "                away_elo = soup.find('td', {'class': 'team2-c'}).find('span', {'class': 'rating'}).text.strip()\n",
    "                results['Away_ELO'].append(away_elo)\n",
    "        \n",
    "        df = pd.DataFrame(results)\n",
    "        df.to_csv(f'Data/Results/{self.league}/Results_{self.year}_{self.league}.csv')\n",
    "    \n",
    "    def get_next_match(self):\n",
    "        results = {'Home_Team': [], 'Away_Team': [], 'Link': [], 'Season': [], 'Round': [], 'League': [], 'Home_ELO': [], 'Away_ELO': []}\n",
    "        r = requests.get(f\"{self.url}/scores/{self.league}/{self.year}/round{self.matchday + 1}\")\n",
    "        time.sleep(1)\n",
    "        soup = bs(r.content, 'html.parser')\n",
    "        matches_box = soup.find('div', {'class': 'panel-body p0 match-list-new'})\n",
    "        matches = matches_box.find_all('a', {'class': 'match-link'})\n",
    "        for match in matches:\n",
    "            home_team = match.find('div', {'class': 'team-info ta-r'}).find('div', {'class': 'name'}).text.strip()\n",
    "            away_team = match.find('div', {'class': 'team-info'}).find('div', {'class': 'name'}).text.strip()\n",
    "            results['Home_Team'].append(home_team)\n",
    "            results['Away_Team'].append(away_team)\n",
    "            results['Link'].append(match.get('href'))\n",
    "            results['Season'].append(self.year)\n",
    "            results['Round'].append(self.matchday + 1)\n",
    "            results['League'].append(self.league)\n",
    "\n",
    "        for link in results['Link']:\n",
    "            r = requests.get(f'{link}/analysis')\n",
    "            time.sleep(0.2)\n",
    "            soup = bs(r.content, 'html.parser')\n",
    "            home_elo = soup.find('td', {'class': 'team1-c'}).find('span', {'class': 'rating'}).text.strip()\n",
    "            results['Home_ELO'].append(home_elo)\n",
    "            away_elo = soup.find('td', {'class': 'team2-c'}).find('span', {'class': 'rating'}).text.strip()\n",
    "            results['Away_ELO'].append(away_elo)\n",
    "        \n",
    "        df = pd.DataFrame(results)\n",
    "        df.to_csv(f'Data/To_Predict/{self.league}/Results_{self.year}_{self.league}.csv')\n",
    "\n",
    "                \n"
   ]
  },
  {
   "cell_type": "code",
   "execution_count": 17,
   "metadata": {},
   "outputs": [
    {
     "name": "stderr",
     "output_type": "stream",
     "text": [
      "100%|██████████| 27/27 [58:02<00:00, 128.98s/it]\n",
      " 11%|█         | 3/27 [00:57<07:41, 19.23s/it]\n"
     ]
    },
    {
     "ename": "KeyboardInterrupt",
     "evalue": "",
     "output_type": "error",
     "traceback": [
      "\u001b[0;31m---------------------------------------------------------------------------\u001b[0m",
      "\u001b[0;31mKeyboardInterrupt\u001b[0m                         Traceback (most recent call last)",
      "\u001b[1;32m/home/gagansehmbi/Documents/AiCore/Football-Match-Outcome-Prediction/scraper.ipynb Cell 2'\u001b[0m in \u001b[0;36m<module>\u001b[0;34m\u001b[0m\n\u001b[1;32m      <a href='vscode-notebook-cell:/home/gagansehmbi/Documents/AiCore/Football-Match-Outcome-Prediction/scraper.ipynb#ch0000001?line=2'>3</a>\u001b[0m \u001b[39mfor\u001b[39;00m league \u001b[39min\u001b[39;00m leagues:\n\u001b[1;32m      <a href='vscode-notebook-cell:/home/gagansehmbi/Documents/AiCore/Football-Match-Outcome-Prediction/scraper.ipynb#ch0000001?line=3'>4</a>\u001b[0m     division \u001b[39m=\u001b[39m Scraper(league)\n\u001b[0;32m----> <a href='vscode-notebook-cell:/home/gagansehmbi/Documents/AiCore/Football-Match-Outcome-Prediction/scraper.ipynb#ch0000001?line=4'>5</a>\u001b[0m     division\u001b[39m.\u001b[39;49mget_previous_matches()\n\u001b[1;32m      <a href='vscode-notebook-cell:/home/gagansehmbi/Documents/AiCore/Football-Match-Outcome-Prediction/scraper.ipynb#ch0000001?line=5'>6</a>\u001b[0m     division\u001b[39m.\u001b[39mget_next_match()\n",
      "\u001b[1;32m/home/gagansehmbi/Documents/AiCore/Football-Match-Outcome-Prediction/scraper.ipynb Cell 1'\u001b[0m in \u001b[0;36mScraper.get_previous_matches\u001b[0;34m(self)\u001b[0m\n\u001b[1;32m     <a href='vscode-notebook-cell:/home/gagansehmbi/Documents/AiCore/Football-Match-Outcome-Prediction/scraper.ipynb#ch0000000?line=46'>47</a>\u001b[0m \u001b[39mfor\u001b[39;00m link \u001b[39min\u001b[39;00m results[\u001b[39m'\u001b[39m\u001b[39mLink\u001b[39m\u001b[39m'\u001b[39m]:\n\u001b[1;32m     <a href='vscode-notebook-cell:/home/gagansehmbi/Documents/AiCore/Football-Match-Outcome-Prediction/scraper.ipynb#ch0000000?line=47'>48</a>\u001b[0m     r \u001b[39m=\u001b[39m requests\u001b[39m.\u001b[39mget(\u001b[39mf\u001b[39m\u001b[39m'\u001b[39m\u001b[39m{\u001b[39;00mlink\u001b[39m}\u001b[39;00m\u001b[39m/analysis\u001b[39m\u001b[39m'\u001b[39m)\n\u001b[0;32m---> <a href='vscode-notebook-cell:/home/gagansehmbi/Documents/AiCore/Football-Match-Outcome-Prediction/scraper.ipynb#ch0000000?line=48'>49</a>\u001b[0m     time\u001b[39m.\u001b[39;49msleep(\u001b[39m0.2\u001b[39;49m)\n\u001b[1;32m     <a href='vscode-notebook-cell:/home/gagansehmbi/Documents/AiCore/Football-Match-Outcome-Prediction/scraper.ipynb#ch0000000?line=49'>50</a>\u001b[0m     soup \u001b[39m=\u001b[39m bs(r\u001b[39m.\u001b[39mcontent, \u001b[39m'\u001b[39m\u001b[39mhtml.parser\u001b[39m\u001b[39m'\u001b[39m)\n\u001b[1;32m     <a href='vscode-notebook-cell:/home/gagansehmbi/Documents/AiCore/Football-Match-Outcome-Prediction/scraper.ipynb#ch0000000?line=50'>51</a>\u001b[0m     results[\u001b[39m'\u001b[39m\u001b[39mHome_ELO\u001b[39m\u001b[39m'\u001b[39m] \u001b[39m=\u001b[39m soup\u001b[39m.\u001b[39mfind(\u001b[39m'\u001b[39m\u001b[39mtd\u001b[39m\u001b[39m'\u001b[39m, {\u001b[39m'\u001b[39m\u001b[39mclass\u001b[39m\u001b[39m'\u001b[39m: \u001b[39m'\u001b[39m\u001b[39mteam1-c\u001b[39m\u001b[39m'\u001b[39m})\u001b[39m.\u001b[39mfind(\u001b[39m'\u001b[39m\u001b[39mspan\u001b[39m\u001b[39m'\u001b[39m, {\u001b[39m'\u001b[39m\u001b[39mclass\u001b[39m\u001b[39m'\u001b[39m: \u001b[39m'\u001b[39m\u001b[39mrating\u001b[39m\u001b[39m'\u001b[39m})\u001b[39m.\u001b[39mtext\u001b[39m.\u001b[39mstrip()\n",
      "\u001b[0;31mKeyboardInterrupt\u001b[0m: "
     ]
    }
   ],
   "source": [
    "leagues = ['2_liga', 'bundesliga', 'championship', 'eerste_divisie', 'eredivisie', 'ligue_1', 'ligue_2', 'premier_league', 'primeira_liga', 'primera_division', 'segunda_division', 'segunda_liga', 'serie_a', 'serie_b']\n",
    "\n",
    "for league in leagues:\n",
    "    division = Scraper(league)\n",
    "    division.get_previous_matches()\n",
    "    division.get_next_match()"
   ]
  },
  {
   "cell_type": "code",
   "execution_count": null,
   "metadata": {},
   "outputs": [],
   "source": []
  }
 ],
 "metadata": {
  "interpreter": {
   "hash": "ce99af5845ff7f417c6fe57e3883abe41597db90e3f493c4f9da5159bbc46102"
  },
  "kernelspec": {
   "display_name": "Python 3.9.5 64-bit ('base': conda)",
   "language": "python",
   "name": "python3"
  },
  "language_info": {
   "codemirror_mode": {
    "name": "ipython",
    "version": 3
   },
   "file_extension": ".py",
   "mimetype": "text/x-python",
   "name": "python",
   "nbconvert_exporter": "python",
   "pygments_lexer": "ipython3",
   "version": "3.10.0"
  },
  "orig_nbformat": 4
 },
 "nbformat": 4,
 "nbformat_minor": 2
}
