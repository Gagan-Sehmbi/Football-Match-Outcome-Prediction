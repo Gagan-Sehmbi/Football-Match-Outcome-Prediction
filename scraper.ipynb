{
 "cells": [
  {
   "cell_type": "code",
   "execution_count": 13,
   "metadata": {},
   "outputs": [],
   "source": [
    "from selenium import webdriver\n",
    "from webdriver_manager.chrome import ChromeDriverManager\n",
    "import time\n",
    "from bs4 import BeautifulSoup as bs\n",
    "import requests\n",
    "from tqdm import tqdm\n",
    "import pandas as pd\n",
    "import os\n",
    "import pathlib\n",
    "class Scraper:\n",
    "    def __init__(self, league:str, url:str='https://www.besoccer.com/competition', year: int=2022) -> None:\n",
    "        pathlib.Path(f'Data/Results/{league}').mkdir(parents=True, exist_ok=True) \n",
    "        pathlib.Path(f'Data/To_Predict/{league}').mkdir(parents=True, exist_ok=True) \n",
    "        self.league = league\n",
    "        self.url = url\n",
    "        self.year = year\n",
    "        r = requests.get(f\"{self.url}/scores/{self.league}/{self.year}\")\n",
    "        time.sleep(1)\n",
    "        soup = bs(r.content, 'html.parser')\n",
    "        matchday_str = soup.find('div', {'class': 'panel-title'}).text\n",
    "        self.matchday = [int(s) for s in matchday_str.split() if s.isdigit()][0]\n",
    "\n",
    "    def get_previous_matches(self):\n",
    "        results = {'Home_Team': [], 'Away_Team': [], 'Result': [], 'Link': [], 'Season': [], 'Round': [], 'League': []}\n",
    "        for matchday in tqdm(range(1, self.matchday)):\n",
    "            r = requests.get(f\"{self.url}/scores/{self.league}/{self.year}/round{matchday}\")\n",
    "            time.sleep(1)\n",
    "            soup = bs(r.content, 'html.parser')\n",
    "            matches_box = soup.find('div', {'class': 'panel-body p0 match-list-new'})\n",
    "            matches = matches_box.find_all('a', {'class': 'match-link'})\n",
    "            for match in matches:\n",
    "                try:\n",
    "                    home_team = match.find('div', {'class': 'team-info ta-r'}).find('div', {'class': 'name'}).text.strip()\n",
    "                    away_team = match.find('div', {'class': 'team-info'}).find('div', {'class': 'name'}).text.strip()\n",
    "                    home_score = match.find('div', {'class': 'marker'}).find('span', {'class': 'r1'}).text.strip()\n",
    "                    away_score = match.find('div', {'class': 'marker'}).find('span', {'class': 'r2'}).text.strip()\n",
    "                except AttributeError:\n",
    "                    continue\n",
    "                results['Home_Team'].append(home_team)\n",
    "                results['Away_Team'].append(away_team)\n",
    "                results['Result'].append(f'{home_score}-{away_score}')\n",
    "                results['Link'].append(match.get('href'))\n",
    "                results['Season'].append(self.year)\n",
    "                results['Round'].append(matchday)\n",
    "                results['League'].append(self.league)\n",
    "        df = pd.DataFrame(results)\n",
    "        df.to_csv(f'Data/Results/{self.league}/Results_{self.year}_{self.league}.csv')\n",
    "    \n",
    "    def get_next_match(self):\n",
    "        results = {'Home_Team': [], 'Away_Team': [], 'Link': [], 'Season': [], 'Round': [], 'League': []}\n",
    "        r = requests.get(f\"{self.url}/scores/{self.league}/{self.year}/round{self.matchday + 1}\")\n",
    "        time.sleep(1)\n",
    "        soup = bs(r.content, 'html.parser')\n",
    "        matches_box = soup.find('div', {'class': 'panel-body p0 match-list-new'})\n",
    "        matches = matches_box.find_all('a', {'class': 'match-link'})\n",
    "        for match in matches:\n",
    "            home_team = match.find('div', {'class': 'team-info ta-r'}).find('div', {'class': 'name'}).text.strip()\n",
    "            away_team = match.find('div', {'class': 'team-info'}).find('div', {'class': 'name'}).text.strip()\n",
    "            results['Home_Team'].append(home_team)\n",
    "            results['Away_Team'].append(away_team)\n",
    "            results['Link'].append(match.get('href'))\n",
    "            results['Season'].append(self.year)\n",
    "            results['Round'].append(self.matchday + 1)\n",
    "            results['League'].append(self.league)\n",
    "        df = pd.DataFrame(results)\n",
    "        df.to_csv(f'Data/To_Predict/{self.league}/Results_{self.year}_{self.league}.csv')\n",
    "\n",
    "                \n"
   ]
  },
  {
   "cell_type": "code",
   "execution_count": 14,
   "metadata": {},
   "outputs": [
    {
     "name": "stderr",
     "output_type": "stream",
     "text": [
      "100%|██████████| 27/27 [05:02<00:00, 11.22s/it]\n",
      "100%|██████████| 27/27 [06:48<00:00, 15.13s/it]\n",
      "100%|██████████| 38/38 [01:05<00:00,  1.72s/it]\n",
      "100%|██████████| 31/31 [00:43<00:00,  1.39s/it]\n",
      "100%|██████████| 27/27 [00:37<00:00,  1.39s/it]\n",
      "100%|██████████| 29/29 [00:40<00:00,  1.41s/it]\n",
      "100%|██████████| 30/30 [00:51<00:00,  1.72s/it]\n",
      "100%|██████████| 29/29 [00:46<00:00,  1.61s/it]\n",
      "100%|██████████| 27/27 [01:01<00:00,  2.28s/it]\n",
      "100%|██████████| 29/29 [01:02<00:00,  2.14s/it]\n",
      "100%|██████████| 32/32 [00:57<00:00,  1.78s/it]\n",
      "100%|██████████| 27/27 [00:47<00:00,  1.75s/it]\n",
      "100%|██████████| 30/30 [00:48<00:00,  1.61s/it]\n",
      "100%|██████████| 31/31 [00:43<00:00,  1.40s/it]\n"
     ]
    }
   ],
   "source": [
    "leagues = ['2_liga', 'bundesliga', 'championship', 'eerste_divisie', 'eredivisie', 'ligue_1', 'ligue_2', 'premier_league', 'primeira_liga', 'primera_division', 'segunda_division', 'segunda_liga', 'serie_a', 'serie_b']\n",
    "\n",
    "for league in leagues:\n",
    "    division = Scraper(league)\n",
    "    division.get_previous_matches()\n",
    "    division.get_next_match()"
   ]
  },
  {
   "cell_type": "code",
   "execution_count": null,
   "metadata": {},
   "outputs": [],
   "source": []
  }
 ],
 "metadata": {
  "interpreter": {
   "hash": "ce99af5845ff7f417c6fe57e3883abe41597db90e3f493c4f9da5159bbc46102"
  },
  "kernelspec": {
   "display_name": "Python 3.9.5 64-bit ('base': conda)",
   "language": "python",
   "name": "python3"
  },
  "language_info": {
   "codemirror_mode": {
    "name": "ipython",
    "version": 3
   },
   "file_extension": ".py",
   "mimetype": "text/x-python",
   "name": "python",
   "nbconvert_exporter": "python",
   "pygments_lexer": "ipython3",
   "version": "3.10.0"
  },
  "orig_nbformat": 4
 },
 "nbformat": 4,
 "nbformat_minor": 2
}
