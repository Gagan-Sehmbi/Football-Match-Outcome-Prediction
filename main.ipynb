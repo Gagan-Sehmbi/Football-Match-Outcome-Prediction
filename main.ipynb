{
 "cells": [
  {
   "cell_type": "markdown",
   "metadata": {},
   "source": [
    "# Import Data"
   ]
  },
  {
   "cell_type": "code",
   "execution_count": 55,
   "metadata": {},
   "outputs": [
    {
     "data": {
      "text/html": [
       "<div>\n",
       "<style scoped>\n",
       "    .dataframe tbody tr th:only-of-type {\n",
       "        vertical-align: middle;\n",
       "    }\n",
       "\n",
       "    .dataframe tbody tr th {\n",
       "        vertical-align: top;\n",
       "    }\n",
       "\n",
       "    .dataframe thead th {\n",
       "        text-align: right;\n",
       "    }\n",
       "</style>\n",
       "<table border=\"1\" class=\"dataframe\">\n",
       "  <thead>\n",
       "    <tr style=\"text-align: right;\">\n",
       "      <th></th>\n",
       "      <th>Home_Team</th>\n",
       "      <th>Away_Team</th>\n",
       "      <th>Result</th>\n",
       "      <th>Link</th>\n",
       "      <th>Season</th>\n",
       "      <th>Round</th>\n",
       "      <th>League</th>\n",
       "    </tr>\n",
       "  </thead>\n",
       "  <tbody>\n",
       "    <tr>\n",
       "      <th>0</th>\n",
       "      <td>Millwall</td>\n",
       "      <td>Southend United</td>\n",
       "      <td>3-1</td>\n",
       "      <td>https://www.besoccer.com/match/millwall-fc/sou...</td>\n",
       "      <td>1995</td>\n",
       "      <td>1</td>\n",
       "      <td>championship</td>\n",
       "    </tr>\n",
       "    <tr>\n",
       "      <th>1</th>\n",
       "      <td>Portsmouth</td>\n",
       "      <td>Notts County</td>\n",
       "      <td>2-1</td>\n",
       "      <td>https://www.besoccer.com/match/portsmouth/nott...</td>\n",
       "      <td>1995</td>\n",
       "      <td>1</td>\n",
       "      <td>championship</td>\n",
       "    </tr>\n",
       "    <tr>\n",
       "      <th>2</th>\n",
       "      <td>Stoke City</td>\n",
       "      <td>Tranmere Rovers</td>\n",
       "      <td>1-0</td>\n",
       "      <td>https://www.besoccer.com/match/stoke-city/tran...</td>\n",
       "      <td>1995</td>\n",
       "      <td>1</td>\n",
       "      <td>championship</td>\n",
       "    </tr>\n",
       "    <tr>\n",
       "      <th>3</th>\n",
       "      <td>Barnsley</td>\n",
       "      <td>Derby County</td>\n",
       "      <td>2-1</td>\n",
       "      <td>https://www.besoccer.com/match/barnsley-fc/der...</td>\n",
       "      <td>1995</td>\n",
       "      <td>1</td>\n",
       "      <td>championship</td>\n",
       "    </tr>\n",
       "    <tr>\n",
       "      <th>4</th>\n",
       "      <td>Middlesbrough</td>\n",
       "      <td>Burnley</td>\n",
       "      <td>2-0</td>\n",
       "      <td>https://www.besoccer.com/match/middlesbrough-f...</td>\n",
       "      <td>1995</td>\n",
       "      <td>1</td>\n",
       "      <td>championship</td>\n",
       "    </tr>\n",
       "    <tr>\n",
       "      <th>...</th>\n",
       "      <td>...</td>\n",
       "      <td>...</td>\n",
       "      <td>...</td>\n",
       "      <td>...</td>\n",
       "      <td>...</td>\n",
       "      <td>...</td>\n",
       "      <td>...</td>\n",
       "    </tr>\n",
       "    <tr>\n",
       "      <th>146493</th>\n",
       "      <td>Frosinone</td>\n",
       "      <td>Pro Vercelli</td>\n",
       "      <td>2-1</td>\n",
       "      <td>https://www.besoccer.com/match/frosinone-calci...</td>\n",
       "      <td>2017</td>\n",
       "      <td>42</td>\n",
       "      <td>serie_b</td>\n",
       "    </tr>\n",
       "    <tr>\n",
       "      <th>146494</th>\n",
       "      <td>Perugia</td>\n",
       "      <td>Salernitana</td>\n",
       "      <td>3-2</td>\n",
       "      <td>https://www.besoccer.com/match/perugia/salerni...</td>\n",
       "      <td>2017</td>\n",
       "      <td>42</td>\n",
       "      <td>serie_b</td>\n",
       "    </tr>\n",
       "    <tr>\n",
       "      <th>146495</th>\n",
       "      <td>Vicenza</td>\n",
       "      <td>Spezia</td>\n",
       "      <td>0-1</td>\n",
       "      <td>https://www.besoccer.com/match/vicenza-calcio/...</td>\n",
       "      <td>2017</td>\n",
       "      <td>42</td>\n",
       "      <td>serie_b</td>\n",
       "    </tr>\n",
       "    <tr>\n",
       "      <th>146496</th>\n",
       "      <td>Ascoli</td>\n",
       "      <td>Ternana Calcio</td>\n",
       "      <td>1-2</td>\n",
       "      <td>https://www.besoccer.com/match/ascoli/ternana-...</td>\n",
       "      <td>2017</td>\n",
       "      <td>42</td>\n",
       "      <td>serie_b</td>\n",
       "    </tr>\n",
       "    <tr>\n",
       "      <th>146497</th>\n",
       "      <td>Brescia</td>\n",
       "      <td>Trapani</td>\n",
       "      <td>2-1</td>\n",
       "      <td>https://www.besoccer.com/match/brescia/trapani...</td>\n",
       "      <td>2017</td>\n",
       "      <td>42</td>\n",
       "      <td>serie_b</td>\n",
       "    </tr>\n",
       "  </tbody>\n",
       "</table>\n",
       "<p>146498 rows × 7 columns</p>\n",
       "</div>"
      ],
      "text/plain": [
       "            Home_Team        Away_Team Result  \\\n",
       "0            Millwall  Southend United    3-1   \n",
       "1          Portsmouth     Notts County    2-1   \n",
       "2          Stoke City  Tranmere Rovers    1-0   \n",
       "3            Barnsley     Derby County    2-1   \n",
       "4       Middlesbrough          Burnley    2-0   \n",
       "...               ...              ...    ...   \n",
       "146493      Frosinone     Pro Vercelli    2-1   \n",
       "146494        Perugia      Salernitana    3-2   \n",
       "146495       Vicenza            Spezia    0-1   \n",
       "146496         Ascoli   Ternana Calcio    1-2   \n",
       "146497        Brescia          Trapani    2-1   \n",
       "\n",
       "                                                     Link  Season  Round  \\\n",
       "0       https://www.besoccer.com/match/millwall-fc/sou...    1995      1   \n",
       "1       https://www.besoccer.com/match/portsmouth/nott...    1995      1   \n",
       "2       https://www.besoccer.com/match/stoke-city/tran...    1995      1   \n",
       "3       https://www.besoccer.com/match/barnsley-fc/der...    1995      1   \n",
       "4       https://www.besoccer.com/match/middlesbrough-f...    1995      1   \n",
       "...                                                   ...     ...    ...   \n",
       "146493  https://www.besoccer.com/match/frosinone-calci...    2017     42   \n",
       "146494  https://www.besoccer.com/match/perugia/salerni...    2017     42   \n",
       "146495  https://www.besoccer.com/match/vicenza-calcio/...    2017     42   \n",
       "146496  https://www.besoccer.com/match/ascoli/ternana-...    2017     42   \n",
       "146497  https://www.besoccer.com/match/brescia/trapani...    2017     42   \n",
       "\n",
       "              League  \n",
       "0       championship  \n",
       "1       championship  \n",
       "2       championship  \n",
       "3       championship  \n",
       "4       championship  \n",
       "...              ...  \n",
       "146493       serie_b  \n",
       "146494       serie_b  \n",
       "146495       serie_b  \n",
       "146496       serie_b  \n",
       "146497       serie_b  \n",
       "\n",
       "[146498 rows x 7 columns]"
      ]
     },
     "execution_count": 55,
     "metadata": {},
     "output_type": "execute_result"
    }
   ],
   "source": [
    "import pandas as pd\n",
    "df = pd.read_csv('all_leagues_data.csv', index_col=0)\n",
    "df"
   ]
  },
  {
   "cell_type": "markdown",
   "metadata": {},
   "source": [
    "# Data Cleaning and Exploratory Data Analysis"
   ]
  },
  {
   "cell_type": "markdown",
   "metadata": {},
   "source": [
    "### General Info"
   ]
  },
  {
   "cell_type": "code",
   "execution_count": 56,
   "metadata": {},
   "outputs": [
    {
     "name": "stdout",
     "output_type": "stream",
     "text": [
      "<class 'pandas.core.frame.DataFrame'>\n",
      "Int64Index: 146498 entries, 0 to 146497\n",
      "Data columns (total 7 columns):\n",
      " #   Column     Non-Null Count   Dtype \n",
      "---  ------     --------------   ----- \n",
      " 0   Home_Team  146498 non-null  object\n",
      " 1   Away_Team  146498 non-null  object\n",
      " 2   Result     146498 non-null  object\n",
      " 3   Link       146498 non-null  object\n",
      " 4   Season     146498 non-null  int64 \n",
      " 5   Round      146498 non-null  int64 \n",
      " 6   League     146498 non-null  object\n",
      "dtypes: int64(2), object(5)\n",
      "memory usage: 8.9+ MB\n"
     ]
    }
   ],
   "source": [
    "df.info()"
   ]
  },
  {
   "cell_type": "markdown",
   "metadata": {},
   "source": [
    "Findings:\n",
    "- No null values\n",
    "- No glaring issues so far\n",
    "\n",
    "Need to go deeper into each feature..."
   ]
  },
  {
   "cell_type": "markdown",
   "metadata": {},
   "source": [
    "### Home_Team"
   ]
  },
  {
   "cell_type": "code",
   "execution_count": 63,
   "metadata": {},
   "outputs": [
    {
     "data": {
      "text/plain": [
       "Real Sporting       642\n",
       "Real Zaragoza       628\n",
       "Real Valladolid     626\n",
       "Sochaux             621\n",
       "Celta               620\n",
       "                   ... \n",
       "SV Babelsberg 03     17\n",
       "Magdeburg            17\n",
       "Pau FC               16\n",
       "UD Logroñés          16\n",
       "Hallescher FC        11\n",
       "Name: Home_Team, Length: 538, dtype: int64"
      ]
     },
     "execution_count": 63,
     "metadata": {},
     "output_type": "execute_result"
    }
   ],
   "source": [
    "ht = df['Home_Team'].value_counts()\n",
    "ht"
   ]
  },
  {
   "cell_type": "markdown",
   "metadata": {},
   "source": [
    "### Away_Team"
   ]
  },
  {
   "cell_type": "code",
   "execution_count": null,
   "metadata": {},
   "outputs": [],
   "source": []
  },
  {
   "cell_type": "markdown",
   "metadata": {},
   "source": [
    "### Result"
   ]
  },
  {
   "cell_type": "code",
   "execution_count": null,
   "metadata": {},
   "outputs": [],
   "source": []
  },
  {
   "cell_type": "markdown",
   "metadata": {},
   "source": [
    "### Link"
   ]
  },
  {
   "cell_type": "code",
   "execution_count": null,
   "metadata": {},
   "outputs": [],
   "source": []
  },
  {
   "cell_type": "markdown",
   "metadata": {},
   "source": [
    "### Season"
   ]
  },
  {
   "cell_type": "code",
   "execution_count": null,
   "metadata": {},
   "outputs": [],
   "source": []
  },
  {
   "cell_type": "markdown",
   "metadata": {},
   "source": [
    "### Round"
   ]
  },
  {
   "cell_type": "code",
   "execution_count": null,
   "metadata": {},
   "outputs": [],
   "source": []
  },
  {
   "cell_type": "markdown",
   "metadata": {},
   "source": [
    "### League"
   ]
  },
  {
   "cell_type": "code",
   "execution_count": null,
   "metadata": {},
   "outputs": [],
   "source": []
  },
  {
   "cell_type": "markdown",
   "metadata": {},
   "source": [
    "### Home_Team"
   ]
  },
  {
   "cell_type": "code",
   "execution_count": null,
   "metadata": {},
   "outputs": [],
   "source": []
  },
  {
   "cell_type": "markdown",
   "metadata": {},
   "source": [
    "### Away_Team"
   ]
  },
  {
   "cell_type": "code",
   "execution_count": null,
   "metadata": {},
   "outputs": [],
   "source": []
  },
  {
   "cell_type": "code",
   "execution_count": null,
   "metadata": {},
   "outputs": [],
   "source": []
  },
  {
   "cell_type": "code",
   "execution_count": null,
   "metadata": {},
   "outputs": [],
   "source": []
  },
  {
   "cell_type": "code",
   "execution_count": null,
   "metadata": {},
   "outputs": [],
   "source": []
  },
  {
   "cell_type": "code",
   "execution_count": null,
   "metadata": {},
   "outputs": [],
   "source": [
    "df.drop(columns=['Link'], inplace=True)\n",
    "df.drop(df[df['Result'].str.len() != 3].index, inplace=True)\n",
    "df"
   ]
  },
  {
   "cell_type": "code",
   "execution_count": null,
   "metadata": {},
   "outputs": [],
   "source": [
    "df['Home_Team_Score'] = df['Result'].apply(lambda x: int(x.split('-')[0]))\n",
    "df['Away_Team_Score'] = df['Result'].apply(lambda x: int(x.split('-')[1]))\n",
    "df.drop(columns=['Result'], inplace=True)\n",
    "df"
   ]
  },
  {
   "cell_type": "code",
   "execution_count": null,
   "metadata": {},
   "outputs": [],
   "source": [
    "df['Region'] = df['League']\n",
    "values_to_update ={\n",
    "    'Region': {\n",
    "        'segunda_division': 'Spain',\n",
    "        'primera_division': 'Spain',\n",
    "        'serie_b': 'Italy',\n",
    "        'serie_a': 'Italy',\n",
    "        'premier_league': 'England',\n",
    "        'championship': 'England',\n",
    "        'ligue_1': 'France',\n",
    "        'ligue_2': 'France',\n",
    "        '2_liga': 'Germany',\n",
    "        'bundesliga': 'Germany',\n",
    "        'eredivisie': 'Netherlands',\n",
    "        'eerste_divisie': 'Netherlands',\n",
    "        'primeira_liga': 'Portugal',\n",
    "        'segunda_liga': 'Portugal'        \n",
    "        }\n",
    "}\n",
    "\n",
    "df = df.replace(values_to_update)\n",
    "df"
   ]
  },
  {
   "cell_type": "code",
   "execution_count": null,
   "metadata": {},
   "outputs": [],
   "source": [
    "df.corr()"
   ]
  },
  {
   "cell_type": "code",
   "execution_count": null,
   "metadata": {},
   "outputs": [],
   "source": [
    "df_home = df.loc[:,['Home_Team', 'Home_Team_Score', 'Away_Team_Score', 'League', 'Region', 'Season', 'Round']]\n",
    "df_home.rename(columns={'Home_Team': 'Team', 'Home_Team_Score': 'GS', 'Away_Team_Score': 'GC'}, inplace=True)\n",
    "df_away = df.loc[:,['Away_Team', 'Away_Team_Score', 'Home_Team_Score', 'League', 'Region', 'Season', 'Round']]\n",
    "df_away.rename(columns={'Away_Team': 'Team', 'Away_Team_Score': 'GS', 'Home_Team_Score': 'GC'}, inplace=True)\n",
    "df_teams = pd.concat([df_home, df_away]).reset_index(drop=True)\n",
    "df_teams"
   ]
  },
  {
   "cell_type": "code",
   "execution_count": null,
   "metadata": {},
   "outputs": [],
   "source": [
    "def win_func(x):\n",
    "    if x['GS'] > x['GC']:\n",
    "        return 3\n",
    "    elif x['GS'] == x['GC']:\n",
    "        return 1\n",
    "    else:\n",
    "        return 0\n",
    "\n",
    "df_teams['Result'] = df_teams.apply(lambda row: win_func(row), axis=1)\n",
    "df_teams"
   ]
  },
  {
   "cell_type": "code",
   "execution_count": null,
   "metadata": {},
   "outputs": [],
   "source": [
    "import pickle"
   ]
  },
  {
   "cell_type": "code",
   "execution_count": null,
   "metadata": {},
   "outputs": [],
   "source": [
    "pickle.load(open('elo_dict.pkl', 'rb'))"
   ]
  },
  {
   "cell_type": "code",
   "execution_count": null,
   "metadata": {},
   "outputs": [],
   "source": []
  }
 ],
 "metadata": {
  "interpreter": {
   "hash": "407a3c9f78ed720dd4091720ec8f8a520e8bb7f05de271f60d3902a1fbccba7f"
  },
  "kernelspec": {
   "display_name": "Python 3.10.0 ('FMOP')",
   "language": "python",
   "name": "python3"
  },
  "language_info": {
   "codemirror_mode": {
    "name": "ipython",
    "version": 3
   },
   "file_extension": ".py",
   "mimetype": "text/x-python",
   "name": "python",
   "nbconvert_exporter": "python",
   "pygments_lexer": "ipython3",
   "version": "3.10.0"
  },
  "orig_nbformat": 4
 },
 "nbformat": 4,
 "nbformat_minor": 2
}
